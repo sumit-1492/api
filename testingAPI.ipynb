{
 "cells": [
  {
   "cell_type": "code",
   "execution_count": 1,
   "id": "7e45e63b",
   "metadata": {},
   "outputs": [
    {
     "data": {
      "text/plain": [
       "3"
      ]
     },
     "execution_count": 1,
     "metadata": {},
     "output_type": "execute_result"
    }
   ],
   "source": [
    "1+2"
   ]
  },
  {
   "cell_type": "code",
   "execution_count": null,
   "id": "60c2ac57",
   "metadata": {},
   "outputs": [
    {
     "name": "stdout",
     "output_type": "stream",
     "text": [
      "{'a': 10, 'b': 5, 'result': 50}\n"
     ]
    }
   ],
   "source": [
    "## multiply API\n",
    "import requests\n",
    "\n",
    "url = \"http://127.0.0.1:8000/multiply\"\n",
    "payload = {\"a\": 10, \"b\": 5}\n",
    "\n",
    "response = requests.post(url, json=payload)\n",
    "print(response.json())"
   ]
  },
  {
   "cell_type": "code",
   "execution_count": 9,
   "id": "54acea66",
   "metadata": {},
   "outputs": [
    {
     "name": "stdout",
     "output_type": "stream",
     "text": [
      "{'a': 10.1, 'b': 2, 'operation': 'divide', 'result': 5.05}\n"
     ]
    }
   ],
   "source": [
    "import requests\n",
    "\n",
    "url = \"http://127.0.0.1:8000/calculator\"\n",
    "payload = {\"a\": 10.1, \"b\": 2, \"operation\":\"divide\"}\n",
    "\n",
    "response = requests.post(url, json=payload)\n",
    "print(response.json())"
   ]
  },
  {
   "cell_type": "code",
   "execution_count": 10,
   "id": "d1b7c7b1",
   "metadata": {},
   "outputs": [
    {
     "name": "stdout",
     "output_type": "stream",
     "text": [
      "{'message': 'user registered succesfully', 'user': 'sumit'}\n",
      "[{'username': 'string', 'email': 'user@example.com', 'password': '12345678'}, {'username': 'string1', 'email': 'user1@example.com', 'password': 'str12345678'}, {'username': 'sumit', 'email': 'sumit@example.com', 'password': 'mypassword123'}]\n"
     ]
    }
   ],
   "source": [
    "import requests\n",
    "\n",
    "url = \"http://127.0.0.1:8000/register\"\n",
    "data = {\n",
    "    \"username\": \"sumit\",\n",
    "    \"email\": \"sumit@example.com\",\n",
    "    \"password\": \"mypassword123\"\n",
    "}\n",
    "\n",
    "res = requests.post(url, json=data)\n",
    "print(res.json())\n",
    "\n",
    "# Get list of registered users\n",
    "users = requests.get(\"http://127.0.0.1:8000/users\")\n",
    "print(users.json())\n"
   ]
  }
 ],
 "metadata": {
  "kernelspec": {
   "display_name": "Python 3",
   "language": "python",
   "name": "python3"
  },
  "language_info": {
   "codemirror_mode": {
    "name": "ipython",
    "version": 3
   },
   "file_extension": ".py",
   "mimetype": "text/x-python",
   "name": "python",
   "nbconvert_exporter": "python",
   "pygments_lexer": "ipython3",
   "version": "3.11.0"
  }
 },
 "nbformat": 4,
 "nbformat_minor": 5
}
